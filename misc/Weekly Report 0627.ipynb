{
 "cells": [
  {
   "cell_type": "markdown",
   "metadata": {},
   "source": [
    "# Weekly Report 0627\n",
    "This report includes:\n",
    "1. Initializing sequence for LV5600, via telnet)\n",
    "2. New method of extracting mid cyan pixels from the captured image\n",
    "3. Mapping the mid cyan pixel position to cursor position\n",
    "4. Mapping the cursor position to the corresponding mV value"
   ]
  },
  {
   "cell_type": "code",
   "execution_count": 11,
   "metadata": {},
   "outputs": [],
   "source": [
    "# import necessary libraries\n",
    "import cv2\n",
    "import numpy as np\n",
    "import matplotlib.pyplot as plt\n",
    "import os\n",
    "import sys\n",
    "sys.path.append('../')\n",
    "from Constants import Constants"
   ]
  },
  {
   "cell_type": "markdown",
   "metadata": {},
   "source": [
    "### Part 1: Initializing sequence for LV5600, via telnet\n"
   ]
  },
  {
   "cell_type": "code",
   "execution_count": 12,
   "metadata": {},
   "outputs": [],
   "source": [
    "import logging\n",
    "from commands import sys_command, wfm_command\n",
    "from Constants import Constants\n",
    "\"\"\"\n",
    "    initialization sequence:\n",
    "    1. SYS:INITIALIZE ALL\n",
    "    2. WFM:LINE_SELECT ON\n",
    "    3. WFM:LINE_NUMBER 580\n",
    "    4. WFM:MATRIX:YCBCR RGB\n",
    "    5. WFM:MODE:RGB:R OFF\n",
    "    6. WFM:MODE:RGB:G ON\n",
    "    7. WFM:MODE:RGB:B OFF\n",
    "    8. WFM:CURSOR SINGLE\n",
    "    9. WFM:CURSOR:DELTA 0\n",
    "    10. WFM:CURSOR:REF 0\n",
    "\"\"\"\n",
    "\n",
    "async def lv5600_initialization(telnet_client):\n",
    "    client = telnet_client\n",
    "    # 1. SYS:INITIALIZE ALL\n",
    "    try:\n",
    "        response = await client.send_command(sys_command.system_initialize())\n",
    "        logging.info(\"Initialized system\")\n",
    "    except Exception as e:\n",
    "        raise LV5600InitializationError(\"Failed to initialize system\")\n",
    "    \n",
    "    # 2. WFM:LINE_SELECT ON\n",
    "    try:\n",
    "        response = await client.send_command(wfm_command.wfm_line_select(\"ON\"))\n",
    "        logging.info(\"Turned on line select\")\n",
    "    except Exception as e:\n",
    "        raise LV5600InitializationError(\"Failed to turn on line select\")\n",
    "    \n",
    "    # 3. WFM:LINE_NUMBER 580\n",
    "    try:\n",
    "        response = await client.send_command(wfm_command.wfm_line_number(Constants.LINE_NUMBER))\n",
    "        logging.info(\"Set line number to\" + str(Constants.LINE_NUMBER))\n",
    "    except Exception as e:\n",
    "        raise LV5600InitializationError(f\"Failed to set line number to {Constants.LINE_NUMBER}\")\n",
    "    \n",
    "    # 4. WFM:MATRIX:YCBCR RGB\n",
    "    try:\n",
    "        response = await client.send_command(wfm_command.wfm_matrix_ycbcr(\"RGB\"))\n",
    "        logging.info(\"Set matrix to RGB\")\n",
    "    except Exception as e:\n",
    "        raise LV5600InitializationError(\"Failed to set matrix to RGB\")\n",
    "    \n",
    "    # 5. WFM:MODE:RGB:R OFF\n",
    "    try:\n",
    "        response = await client.send_command(wfm_command.wfm_mode_rgb(\"R\", \"OFF\"))\n",
    "        logging.info(\"Turned off R channel\")\n",
    "    except Exception as e:\n",
    "        raise LV5600InitializationError(\"Failed to turn off R channel\")\n",
    "    \n",
    "    # 6. WFM:MODE:RGB:G ON\n",
    "    try:\n",
    "        response = await client.send_command(wfm_command.wfm_mode_rgb(\"G\", \"ON\"))\n",
    "        logging.info(\"Turned on G channel\")\n",
    "    except Exception as e:\n",
    "        raise LV5600InitializationError(\"Failed to turn on G channel\")\n",
    "\n",
    "    # 7. WFM:MODE:RGB:B OFF\n",
    "    try:\n",
    "        response = await client.send_command(wfm_command.wfm_mode_rgb(\"B\", \"OFF\"))\n",
    "        logging.info(\"Turned off B channel\")\n",
    "    except Exception as e:\n",
    "        raise LV5600InitializationError(\"Failed to turn off B channel\")\n",
    "    \n",
    "    # 8. WFM:CURSOR SINGLE\n",
    "    try:\n",
    "        response = await client.send_command(wfm_command.wfm_cursor(\"SINGLE\"))\n",
    "        logging.info(\"Set cursor to single\")\n",
    "    except Exception as e:\n",
    "        raise LV5600InitializationError(\"Failed to set cursor to single\")\n",
    "    \n",
    "    # 9. WFM:CURSOR:DELTA 0\n",
    "    try:\n",
    "        response = await client.send_command(wfm_command.wfm_cursor_height(\"Y\",\"DELTA\" , 0))\n",
    "        logging.info(\"Set cursor delta to 0\")\n",
    "    except Exception as e:\n",
    "        raise LV5600InitializationError(\"Failed to set cursor delta to 0\")\n",
    "    \n",
    "    # 10. WFM:CURSOR:REF 0\n",
    "    try:\n",
    "        response = await client.send_command(wfm_command.wfm_cursor_height('Y', \"REF\" , 0))\n",
    "        logging.info(\"Set cursor ref to 0\")\n",
    "    except Exception as e:\n",
    "        raise LV5600InitializationError(\"Failed to set cursor ref to 0\")\n",
    "\n",
    "    # 11. WFM:CURSOR:UNIT:Y MV\n",
    "    try:\n",
    "        response = await client.send_command(wfm_command.wfm_cursor_unit(\"Y\", \"MV\"))\n",
    "        logging.info(\"Set cursor unit to MV\")\n",
    "    except Exception as e:\n",
    "        raise LV5600InitializationError(\"Failed to set cursor unit to MV\")\n",
    "\n",
    "class LV5600InitializationError(Exception):\n",
    "    pass"
   ]
  },
  {
   "cell_type": "markdown",
   "metadata": {},
   "source": [
    "### Part 2: New method of extracting mid cyan pixels from the captured image\n",
    "* The key idea here is that since we initialize the LV5600 everytime, we know exactly where the mid cyan pixel is. So we can just extract the column of mid cyan pixel from the absolute position"
   ]
  },
  {
   "cell_type": "code",
   "execution_count": 13,
   "metadata": {},
   "outputs": [],
   "source": [
    "async def calculate_middle_cyan_y(image) -> float:\n",
    "    lower_cyan_range = np.array([0, 200, 200])\n",
    "    upper_cyan_range = np.array([100, 255, 255])\n",
    "\n",
    "    # get cyan coordinates\n",
    "    cyan_mask = cv2.inRange(image, lower_cyan_range, upper_cyan_range)\n",
    "    cyan_coordinates = np.where(cyan_mask == 255)\n",
    "    cyan_coordinates = np.array(cyan_coordinates)\n",
    "\n",
    "    mid_point_x = int(image.shape[1]/2)\n",
    "    mid_cyan_pixels = np.where(cyan_coordinates[1] == mid_point_x)[0]\n",
    "    mid_cyan_y = np.nanmin(cyan_coordinates[0][mid_cyan_pixels]) # this extract the minimum y value of the middle cyan pixels\n",
    "    return mid_cyan_y"
   ]
  },
  {
   "cell_type": "markdown",
   "metadata": {},
   "source": [
    "### Part 3: Mapping the mid cyan pixel position to cursor position"
   ]
  },
  {
   "cell_type": "code",
   "execution_count": 14,
   "metadata": {},
   "outputs": [],
   "source": [
    "average_count = 5\n",
    "from scripts import capture_and_send_bmp\n",
    "\n",
    "async def capture_classify_show_with_initialize(telnet_client, ftp_client):\n",
    "    try:    \n",
    "        try:\n",
    "            await lv5600_initialization(telnet_client)\n",
    "            logging.info(\"LV5600 initialized.\")\n",
    "        except LV5600InitializationError as e:\n",
    "            logging.error(\"LV5600 Initialization error: \"+str(e))\n",
    "            return\n",
    "        except Exception as e:\n",
    "            logging.error(f\"An unexpected error occurred: {e}\")\n",
    "            return\n",
    "\n",
    "        # turn off the WFM SCALE\n",
    "        try:\n",
    "            response = await telnet_client.send_command(wfm_command.wfm_scale_inten(-8))\n",
    "            logging.info(\"Turned off WFM SCALE\")\n",
    "        except Exception as e:\n",
    "            logging.error(f\"An unexpected error occurred: {e}\")\n",
    "            return\n",
    "        \n",
    "\n",
    "        cyan_y_values = []\n",
    "        for i in range(average_count): # replace N with number of screenshots\n",
    "            # capture the image\n",
    "            try:\n",
    "                await capture_and_send_bmp(telnet_client, ftp_client)\n",
    "                logging.info(f\"Captured and sent bmp {i+1}.\")\n",
    "            except Exception as e:\n",
    "                logging.error(f\"Failed to capture and send bmp: {e}\")\n",
    "                continue\n",
    "            image = cv2.imread(Constants.LOCAL_FILE_PATH_BMP)\n",
    "            if image is None:\n",
    "                logging.error(\"Image is None\")\n",
    "                return\n",
    "        \n",
    "            image = cv2.cvtColor(image, cv2.COLOR_BGR2RGB)\n",
    "            image = image[Constants.WFM_ROI_COORDINATES_X1:Constants.WFM_ROI_COORDINATES_X2, Constants.WFM_ROI_COORDINATES_Y1:Constants.WFM_ROI_COORDINATES_Y2]\n",
    "\n",
    "            mid_cyan_y = await calculate_middle_cyan_y(image)\n",
    "            if np.isnan(mid_cyan_y):\n",
    "                logging.warning(f\"No cyan pixel in the middle for image {i+1}\")\n",
    "                continue\n",
    "\n",
    "            cyan_y_values.append(mid_cyan_y)\n",
    "            logging.info(f\"Middle cyan pixel's y value for image {i+1}: {mid_cyan_y}\")\n",
    "\n",
    "        # calculate average y value\n",
    "        average_y = np.mean(cyan_y_values)\n",
    "        logging.info(f\"Average y value: {average_y}\")\n",
    "\n",
    "        # calculate target level\n",
    "        target_level = (1-average_y/float(image.shape[0]))* 11000 \n",
    "        target_level = int(target_level)\n",
    "\n",
    "        # tune WFM Cursor to target level\n",
    "        try:\n",
    "            logging.info(f\"Peak level: {target_level}\")\n",
    "            response = await telnet_client.send_command(wfm_command.wfm_cursor_height('Y',\"DELTA\",target_level))\n",
    "            logging.info(\"Tuned WFM Cursor to peak level\")\n",
    "        except Exception as e:\n",
    "            logging.error(f\"An unexpected error occurred: {e}\")\n",
    "            return\n",
    "\n",
    "\n",
    "    finally:\n",
    "        logging.info(\"Set WFM Cursor to peak level.\")\n",
    "\n",
    "    cursor_height = target_level\n",
    "    mv_value = 0.07*cursor_height\n",
    "    logging.info(f\"Current MV value: {mv_value}\")\n",
    "    if(mv_value > 769.5):\n",
    "        # oversaturated\n",
    "        class_ = \"Oversaturated\"\n",
    "    elif(766.5<=mv_value <= 769.5):\n",
    "        # saturated\n",
    "        class_ = \"Saturated\"\n",
    "    elif(0<=mv_value < 766.5):\n",
    "        # undersaturated\n",
    "        class_ = \"Undersaturated\"\n",
    "    else:\n",
    "        logging.error(\"Unknown saturation level\")\n",
    "        class_ = \"Unknown\"\n",
    "    \n",
    "    # turn back on the WFM SCALE\n",
    "    try:\n",
    "        response = await telnet_client.send_command(wfm_command.wfm_scale_inten(0))\n",
    "        logging.info(\"Turned on WFM SCALE\")\n",
    "    except Exception as e:\n",
    "        logging.error(f\"An unexpected error occurred: {e}\")\n",
    "        return\n",
    "    \n",
    "    return class_, mv_value\n"
   ]
  },
  {
   "cell_type": "markdown",
   "metadata": {},
   "source": [
    "# Part 4: Mapping the cursor position to the corresponding mV value\n",
    "* This part is easy math mapping, since we have the exact ROI coordinates, we can just map the cursor position to the corresponding mV value\n",
    "* We know when Cursor is 0, mV is 0, and when Cursor is 11000, mV is 770"
   ]
  },
  {
   "cell_type": "markdown",
   "metadata": {},
   "source": [
    "### Part 5: Putting everything together, a demo with local image"
   ]
  },
  {
   "cell_type": "code",
   "execution_count": 15,
   "metadata": {},
   "outputs": [
    {
     "data": {
      "image/png": "[encoded data removed]",
      "text/plain": [
       "<Figure size 640x480 with 1 Axes>"
      ]
     },
     "metadata": {},
     "output_type": "display_data"
    }
   ],
   "source": [
    "# load the image\n",
    "image =cv2.imread(Constants.LOCAL_FILE_PATH_BMP)\n",
    "image = cv2.cvtColor(image, cv2.COLOR_BGR2RGB)\n",
    "\n",
    "# display the image\n",
    "plt.imshow(image)\n",
    "plt.axis(\"off\")\n",
    "plt.show()"
   ]
  },
  {
   "cell_type": "code",
   "execution_count": 16,
   "metadata": {},
   "outputs": [
    {
     "data": {
      "text/plain": [
       "<matplotlib.image.AxesImage at 0x2cf3155a050>"
      ]
     },
     "execution_count": 16,
     "metadata": {},
     "output_type": "execute_result"
    },
    {
     "data": {
      "image/png": "[encoded data removed]",
      "text/plain": [
       "<Figure size 640x480 with 1 Axes>"
      ]
     },
     "metadata": {},
     "output_type": "display_data"
    }
   ],
   "source": [
    "# crop the image\n",
    "image = image[Constants.WFM_ROI_COORDINATES_X1:Constants.WFM_ROI_COORDINATES_X2, Constants.WFM_ROI_COORDINATES_Y1:Constants.WFM_ROI_COORDINATES_Y2]\n",
    "plt.imshow(image)"
   ]
  },
  {
   "cell_type": "code",
   "execution_count": 17,
   "metadata": {},
   "outputs": [
    {
     "name": "stdout",
     "output_type": "stream",
     "text": [
      "Current MV value: 662.69\n"
     ]
    }
   ],
   "source": [
    "# call the function in Part1 to get the min y value of the middle cyan pixels\n",
    "mid_cyan_y = await calculate_middle_cyan_y(image)\n",
    "if np.isnan(mid_cyan_y):\n",
    "    logging.warning(\"No cyan pixel in the middle\")\n",
    "\n",
    "# calculate target level\n",
    "target_level = (1-mid_cyan_y/float(image.shape[0]))* 11000\n",
    "target_level = int(target_level)\n",
    "\n",
    "mv_value = 0.07*target_level\n",
    "print(f\"Current MV value: {mv_value}\")\n"
   ]
  }
 ],
 "metadata": {
  "kernelspec": {
   "display_name": "Python 3",
   "language": "python",
   "name": "python3"
  },
  "language_info": {
   "codemirror_mode": {
    "name": "ipython",
    "version": 3
   },
   "file_extension": ".py",
   "mimetype": "text/x-python",
   "name": "python",
   "nbconvert_exporter": "python",
   "pygments_lexer": "ipython3",
   "version": "3.11.3"
  },
  "orig_nbformat": 4
 },
 "nbformat": 4,
 "nbformat_minor": 2
}
