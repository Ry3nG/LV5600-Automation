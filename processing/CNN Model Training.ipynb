{
 "cells": [
  {
   "cell_type": "markdown",
   "metadata": {},
   "source": [
    "# Waveform Classification using Convolutional Neural Network"
   ]
  },
  {
   "cell_type": "markdown",
   "metadata": {},
   "source": [
    ">Gong Zerui, last updated: 20.06.15\n",
    "\n",
    "* CNN under tensorflow framework"
   ]
  },
  {
   "cell_type": "markdown",
   "metadata": {},
   "source": [
    "### Import librarires"
   ]
  },
  {
   "cell_type": "code",
   "execution_count": 23,
   "metadata": {},
   "outputs": [],
   "source": [
    "# import necessary libraries\n",
    "import os\n",
    "import shutil\n",
    "from tensorflow.keras.preprocessing.image import ImageDataGenerator\n",
    "from tensorflow.keras.models import Sequential\n",
    "from tensorflow.keras.layers import Dense, Conv2D, MaxPooling2D, Dropout, Flatten\n",
    "from tensorflow.keras import regularizers\n",
    "from tensorflow.keras.callbacks import EarlyStopping\n",
    "import tensorflow as tf\n",
    "import matplotlib.pyplot as plt\n",
    "\n",
    "# for waveform analysis\n",
    "TEST_DATASET_PATH = \"E:\\\\Data\\\\TestSet\\\\\"\n",
    "TEST_CATEGORIES = ['OverSaturated', 'UnderSaturated', 'JustSaturated']\n",
    "\n",
    "MODEL_PATH = 'E\\\\Model\\\\'\n",
    "CNN_PREPROCESSING_BUFFER_PATH = 'E:\\\\Data\\\\PreprocessingBuffer\\\\'\n",
    "FAILED_TESTCASES_PATH = \"E:\\\\Data\\\\Failed Testset\\\\\"\n",
    "CROPPED_DATASET_PATH = 'E:\\\\Data\\\\LargeSet\\\\Cropped\\\\'\n",
    "\n",
    "OVERSATURATED_DATASET_PATH = 'E:\\\\Data\\\\LargeSet\\\\OverSaturated'\n",
    "UNDERSATURATED_DATASET_PATH = 'E:\\\\Data\\\\LargeSet\\\\UnderSaturated'\n",
    "JUSTSATURATED_DATASET_PATH = 'E:\\\\Data\\\\LargeSet\\\\JustSaturated'\n",
    "\n",
    "OVERSATURATED_CROPPED_DATASET_PATH = 'E:\\\\Data\\\\LargeSet\\\\Cropped\\\\OverSaturated'\n",
    "UNDERSATURATED_CROPPED_DATASET_PATH = 'E:\\\\Data\\\\LargeSet\\\\Cropped\\\\UnderSaturated'\n",
    "JUSTSATURATED_CROPPED_DATASET_PATH = 'E:\\\\Data\\\\LargeSet\\\\Cropped\\\\JustSaturated'\n"
   ]
  },
  {
   "cell_type": "code",
   "execution_count": 38,
   "metadata": {},
   "outputs": [
    {
     "name": "stdout",
     "output_type": "stream",
     "text": [
      "[]\n"
     ]
    }
   ],
   "source": [
    "print(tf.config.list_physical_devices('GPU'))"
   ]
  },
  {
   "cell_type": "markdown",
   "metadata": {},
   "source": [
    "### Check directory folders"
   ]
  },
  {
   "cell_type": "code",
   "execution_count": 18,
   "metadata": {},
   "outputs": [
    {
     "ename": "AttributeError",
     "evalue": "type object 'Constants' has no attribute 'CROPPED_DATASET_PATH'",
     "output_type": "error",
     "traceback": [
      "\u001b[1;31m---------------------------------------------------------------------------\u001b[0m",
      "\u001b[1;31mAttributeError\u001b[0m                            Traceback (most recent call last)",
      "Cell \u001b[1;32mIn[18], line 2\u001b[0m\n\u001b[0;32m      1\u001b[0m \u001b[39m# define directories and categories\u001b[39;00m\n\u001b[1;32m----> 2\u001b[0m data_dir \u001b[39m=\u001b[39m  Constants\u001b[39m.\u001b[39;49mCROPPED_DATASET_PATH\n\u001b[0;32m      3\u001b[0m categories \u001b[39m=\u001b[39m [\u001b[39m'\u001b[39m\u001b[39mJustSaturated\u001b[39m\u001b[39m'\u001b[39m,\u001b[39m'\u001b[39m\u001b[39mUnderSaturated\u001b[39m\u001b[39m'\u001b[39m,\u001b[39m'\u001b[39m\u001b[39mOverSaturated\u001b[39m\u001b[39m'\u001b[39m]\n\u001b[0;32m      5\u001b[0m \u001b[39m# check if the directory exists\u001b[39;00m\n",
      "\u001b[1;31mAttributeError\u001b[0m: type object 'Constants' has no attribute 'CROPPED_DATASET_PATH'"
     ]
    }
   ],
   "source": [
    "# define directories and categories\n",
    "data_dir = CROPPED_DATASET_PATH\n",
    "categories = ['JustSaturated','UnderSaturated','OverSaturated']\n",
    "\n",
    "# check if the directory exists\n",
    "if os.path.exists(data_dir):\n",
    "    print('Directory exists')\n",
    "else:\n",
    "    print('Directory does not exist')\n",
    "\n"
   ]
  },
  {
   "cell_type": "markdown",
   "metadata": {},
   "source": [
    "### Split data into training and validation sets\n",
    "* ratio is 70% : 30%\n",
    "* reate train and val folder in specified folders"
   ]
  },
  {
   "cell_type": "code",
   "execution_count": 40,
   "metadata": {},
   "outputs": [],
   "source": [
    "# split the data into training and validation sets\n",
    "import random\n",
    "\n",
    "\n",
    "train_dir = os.path.join(data_dir, 'train')\n",
    "val_dir = os.path.join(data_dir, 'val')\n",
    "os.makedirs(train_dir, exist_ok=True)\n",
    "os.makedirs(val_dir, exist_ok=True)\n",
    "\n",
    "# define the ratio for splitting the data\n",
    "split_ratio = 0.7\n",
    "total_train = 0\n",
    "total_val = 0\n",
    "\n",
    "# loop through each category and split the data\n",
    "for cat in categories:\n",
    "    img_files = os.listdir(os.path.join(data_dir, cat))\n",
    "    num_train = int(len(img_files)*split_ratio)\n",
    "    random.shuffle(img_files)  # shuffle the list of image files\n",
    "    train_files = img_files[:num_train]\n",
    "    val_files = img_files[num_train:]\n",
    "\n",
    "    total_train += len(train_files)\n",
    "    total_val += len(val_files)\n",
    "\n",
    "    os.makedirs(os.path.join(train_dir, cat), exist_ok=True)\n",
    "    os.makedirs(os.path.join(val_dir, cat), exist_ok=True)\n",
    "    for fname in train_files:\n",
    "        shutil.copy(os.path.join(data_dir, cat, fname), os.path.join(train_dir, cat, fname))\n",
    "    for fname in val_files:\n",
    "        shutil.copy(os.path.join(data_dir, cat, fname), os.path.join(val_dir, cat, fname))\n"
   ]
  },
  {
   "cell_type": "markdown",
   "metadata": {},
   "source": [
    "### Image preprocessing\n",
    "* set height and width of the images that the model will receive : 670 * 240\n",
    "* set batch size (number of images to be used in one update cycle) : 32\n",
    "* augmentation: rescaling, rotation, shift, zoom, flip"
   ]
  },
  {
   "cell_type": "code",
   "execution_count": 41,
   "metadata": {},
   "outputs": [
    {
     "name": "stdout",
     "output_type": "stream",
     "text": [
      "Found 6089 images belonging to 3 classes.\n",
      "Found 2612 images belonging to 3 classes.\n"
     ]
    }
   ],
   "source": [
    "# Preprocess the images\n",
    "IMG_HEIGHT, IMG_WIDTH = 240, 670\n",
    "BATCH_SIZE = 32\n",
    "\n",
    "# Introduce data augmentation to the training set\n",
    "train_datagen = ImageDataGenerator(\n",
    "    rescale=1./255, \n",
    "    rotation_range=20,\n",
    "    width_shift_range=0.2, \n",
    "    height_shift_range=0.2,\n",
    "    zoom_range=0.2,\n",
    "    horizontal_flip=True)\n",
    "\n",
    "# We do not apply any augmentation on validation data\n",
    "val_datagen = ImageDataGenerator(rescale=1./255)\n",
    "\n",
    "train_generator = train_datagen.flow_from_directory(\n",
    "    train_dir,\n",
    "    target_size=(IMG_HEIGHT, IMG_WIDTH),\n",
    "    batch_size=BATCH_SIZE,\n",
    "    class_mode='categorical')\n",
    "\n",
    "val_generator = val_datagen.flow_from_directory(\n",
    "    val_dir,\n",
    "    target_size=(IMG_HEIGHT, IMG_WIDTH),\n",
    "    batch_size=BATCH_SIZE,\n",
    "    class_mode='categorical')"
   ]
  },
  {
   "cell_type": "markdown",
   "metadata": {},
   "source": [
    "### Model definition and training\n",
    "* Classic CNN model\n",
    "* Convolutional Layers and Pooling\n",
    "    ```\n",
    "    Conv2D(32, 3, padding='same', activation='relu', input_shape=(IMG_HEIGHT, IMG_WIDTH ,3)),\n",
    "    MaxPooling2D(),\n",
    "    Dropout(0.2),\n",
    "    ```\n",
    "    These are the first set of convolutional, pooling, and dropout layers. Convolutional layers are used to detect features or patterns in the images, like edges, corners, etc. The pooling layer reduces the dimensionality of the images, helping to prevent overfitting. The dropout layer randomly drops out a percentage of the neurons during training to also prevent overfitting.\n",
    "* Fully Connected Layers\n",
    "    ```\n",
    "    Flatten(),\n",
    "    Dense(64, activation='relu', kernel_regularizer=regularizers.l2(0.001)),\n",
    "    Dropout(0.5),  \n",
    "    Dense(3)\n",
    "    ```\n",
    "    After several convolutional and pooling layers, we flatten the data to a one-dimensional array and feed it into a fully connected (Dense) layer. This layer will learn global patterns from the features detected by previous layers. We apply dropout again for regularisation, and the final layer outputs the class probabilities.\n",
    "* Compile Model\n",
    "    ```\n",
    "    model.compile(optimizer=tf.keras.optimizers.Adam(learning_rate=0.0001),\n",
    "          loss=tf.keras.losses.CategoricalCrossentropy(from_logits=True),\n",
    "          metrics=['accuracy'])\n",
    "    ```\n",
    "    The model is compiled with the Adam optimizer, and the learning rate is set. The loss function is categorical cross-entropy, which is suitable for multiclass classification tasks. We're also setting accuracy as our evaluation metric.\n",
    "* Model Training:\n",
    "    ```\n",
    "    history = model.fit(\n",
    "    train_generator,\n",
    "    steps_per_epoch=total_train // BATCH_SIZE,\n",
    "    epochs=EPOCHS,\n",
    "    validation_data=val_generator,\n",
    "    validation_steps=total_val // BATCH_SIZE,\n",
    "    callbacks=[early_stop]\n",
    "    )\n",
    "    ```\n",
    "    The model is then trained using the fit method, using generators to provide batches of images. The training process is also validated on a separate set of data. The 'early stop' callback is used to stop training when the model isn't improving on the validation data, preventing wasted computation.\n"
   ]
  },
  {
   "cell_type": "code",
   "execution_count": 42,
   "metadata": {},
   "outputs": [
    {
     "name": "stdout",
     "output_type": "stream",
     "text": [
      "Epoch 1/20\n",
      "190/190 [==============================] - 606s 3s/step - loss: 1.0553 - accuracy: 0.5572 - val_loss: 0.6600 - val_accuracy: 0.8638\n",
      "Epoch 2/20\n",
      "190/190 [==============================] - 586s 3s/step - loss: 0.8110 - accuracy: 0.6928 - val_loss: 0.5017 - val_accuracy: 0.8804\n",
      "Epoch 3/20\n",
      "190/190 [==============================] - 583s 3s/step - loss: 0.6737 - accuracy: 0.7606 - val_loss: 0.4846 - val_accuracy: 0.8133\n",
      "Epoch 4/20\n",
      "190/190 [==============================] - 620s 3s/step - loss: 0.5971 - accuracy: 0.7915 - val_loss: 0.3829 - val_accuracy: 0.8908\n",
      "Epoch 5/20\n",
      "190/190 [==============================] - 597s 3s/step - loss: 0.5626 - accuracy: 0.8233 - val_loss: 0.3331 - val_accuracy: 0.9294\n",
      "Epoch 6/20\n",
      "190/190 [==============================] - 603s 3s/step - loss: 0.5107 - accuracy: 0.8453 - val_loss: 0.2738 - val_accuracy: 1.0000\n",
      "Epoch 7/20\n",
      "190/190 [==============================] - 610s 3s/step - loss: 0.5008 - accuracy: 0.8529 - val_loss: 0.3087 - val_accuracy: 0.9637\n",
      "Epoch 8/20\n",
      "190/190 [==============================] - 652s 3s/step - loss: 0.4828 - accuracy: 0.8630 - val_loss: 0.2319 - val_accuracy: 0.9861\n",
      "Epoch 9/20\n",
      "190/190 [==============================] - 627s 3s/step - loss: 0.4683 - accuracy: 0.8712 - val_loss: 0.2085 - val_accuracy: 0.9911\n",
      "Epoch 10/20\n",
      "190/190 [==============================] - 627s 3s/step - loss: 0.4719 - accuracy: 0.8687 - val_loss: 0.2592 - val_accuracy: 0.9645\n",
      "Epoch 11/20\n",
      "190/190 [==============================] - 630s 3s/step - loss: 0.4454 - accuracy: 0.8831 - val_loss: 0.2334 - val_accuracy: 0.9846\n"
     ]
    },
    {
     "data": {
      "image/png": "[encoded data removed]",
      "text/plain": [
       "<Figure size 1200x400 with 2 Axes>"
      ]
     },
     "metadata": {},
     "output_type": "display_data"
    }
   ],
   "source": [
    "\n",
    "# Define the model\n",
    "model = Sequential([\n",
    "    Conv2D(32, 3, padding='same', activation='relu', input_shape=(IMG_HEIGHT, IMG_WIDTH ,3)),\n",
    "    MaxPooling2D(),\n",
    "    Dropout(0.2),  \n",
    "    Conv2D(64, 3, padding='same', activation='relu'),\n",
    "    MaxPooling2D(),\n",
    "    Dropout(0.3),  \n",
    "    Conv2D(128, 3, padding='same', activation='relu'),\n",
    "    MaxPooling2D(),\n",
    "    Dropout(0.4),  \n",
    "    Flatten(),\n",
    "    Dense(64, activation='relu', kernel_regularizer=regularizers.l2(0.001)),  # added L2 regularization\n",
    "    Dropout(0.5),  \n",
    "    Dense(3)  # number of classes\n",
    "])\n",
    "\n",
    "# Compile the model\n",
    "model.compile(optimizer=tf.keras.optimizers.Adam(learning_rate=0.0001),\n",
    "              loss=tf.keras.losses.CategoricalCrossentropy(from_logits=True),\n",
    "              metrics=['accuracy'])\n",
    "\n",
    "# Update batch size and epochs\n",
    "BATCH_SIZE = 32 \n",
    "EPOCHS = 20\n",
    "\n",
    "early_stopping = EarlyStopping(\n",
    "    monitor='val_loss',  # Monitor validation loss\n",
    "    patience=2,  # Number of epochs with no improvement after which training will be stopped\n",
    "    restore_best_weights=True  # Restore model weights from the epoch with the best value\n",
    ")\n",
    "# Train the model\n",
    "history = model.fit(\n",
    "    train_generator,\n",
    "    steps_per_epoch=total_train // BATCH_SIZE,\n",
    "    epochs=EPOCHS,\n",
    "    validation_data=val_generator,\n",
    "    validation_steps=total_val // BATCH_SIZE,\n",
    "    callbacks=[early_stopping]\n",
    ")\n",
    "# Plotting the training progress\n",
    "plt.figure(figsize=(12, 4))\n",
    "plt.subplot(1, 2, 1)\n",
    "plt.plot(history.history['loss'], label='Training Loss')\n",
    "plt.plot(history.history['val_loss'], label='Validation Loss')\n",
    "plt.xlabel('Epoch')\n",
    "plt.ylabel('Loss')\n",
    "plt.legend()\n",
    "\n",
    "plt.subplot(1, 2, 2)\n",
    "plt.plot(history.history['accuracy'], label='Training Accuracy')\n",
    "plt.plot(history.history['val_accuracy'], label='Validation Accuracy')\n",
    "plt.xlabel('Epoch')\n",
    "plt.ylabel('Accuracy')\n",
    "plt.legend()\n",
    "\n",
    "plt.show()"
   ]
  },
  {
   "cell_type": "markdown",
   "metadata": {},
   "source": [
    "### Save the trained model"
   ]
  },
  {
   "cell_type": "code",
   "execution_count": 43,
   "metadata": {},
   "outputs": [],
   "source": [
    "# save the model and rename according to the number of epochs and timestamp\n",
    "import datetime\n",
    "now = datetime.datetime.now()\n",
    "model_name = 'model_' + str(EPOCHS) + '_' + now.strftime(\"%Y%m%d-%H%M%S\") + '.h5'\n",
    "model.save(MODEL_PATH + model_name)\n"
   ]
  },
  {
   "cell_type": "code",
   "execution_count": 44,
   "metadata": {},
   "outputs": [],
   "source": [
    "# Generate a txt file with detailed information about the model\n",
    "with open(MODEL_PATH + model_name + '.txt', 'w') as f:\n",
    "    f.write('Model name: ' + model_name + '\\n')\n",
    "    f.write('Number of epochs: ' + str(EPOCHS) + '\\n')\n",
    "    f.write('Batch size: ' + str(BATCH_SIZE) + '\\n')\n",
    "    f.write('Image height: ' + str(IMG_HEIGHT) + '\\n')\n",
    "    f.write('Image width: ' + str(IMG_WIDTH) + '\\n')\n",
    "    f.write('Total training images: ' + str(total_train) + '\\n')\n",
    "    f.write('Total validation images: ' + str(total_val) + '\\n')\n",
    "    f.write('Training accuracy: ' + str(history.history['accuracy'][-1]) + '\\n')\n",
    "    f.write('Validation accuracy: ' + str(history.history['val_accuracy'][-1]) + '\\n')\n",
    "    f.write('Training loss: ' + str(history.history['loss'][-1]) + '\\n')\n",
    "    f.write('Validation loss: ' + str(history.history['val_loss'][-1]) + '\\n')\n",
    "    f.write('Timestamp: ' + now.strftime(\"%Y%m%d-%H%M%S\") + '\\n')\n",
    "    f.write('Model summary: ' + '\\n')\n",
    "    model.summary(print_fn=lambda x: f.write(x + '\\n'))  # save model summary to txt file\n",
    "\n",
    "    "
   ]
  }
 ],
 "metadata": {
  "kernelspec": {
   "display_name": "Python 3",
   "language": "python",
   "name": "python3"
  },
  "language_info": {
   "codemirror_mode": {
    "name": "ipython",
    "version": 3
   },
   "file_extension": ".py",
   "mimetype": "text/x-python",
   "name": "python",
   "nbconvert_exporter": "python",
   "pygments_lexer": "ipython3",
   "version": "3.11.3"
  },
  "orig_nbformat": 4
 },
 "nbformat": 4,
 "nbformat_minor": 2
}
