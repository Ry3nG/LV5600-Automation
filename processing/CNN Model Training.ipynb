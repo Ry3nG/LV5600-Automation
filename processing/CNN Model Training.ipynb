{
 "cells": [
  {
   "cell_type": "markdown",
   "metadata": {},
   "source": [
    "# Waveform Classification using Convolutional Neural Network"
   ]
  },
  {
   "cell_type": "markdown",
   "metadata": {},
   "source": [
    ">Gong Zerui, last updated: 20.06.15\n",
    "\n",
    "* CNN under tensorflow framework"
   ]
  },
  {
   "cell_type": "markdown",
   "metadata": {},
   "source": [
    "### Import librarires"
   ]
  },
  {
   "cell_type": "code",
   "execution_count": 9,
   "metadata": {},
   "outputs": [],
   "source": [
    "# import necessary libraries\n",
    "import os\n",
    "import shutil\n",
    "from tensorflow.keras.preprocessing.image import ImageDataGenerator\n",
    "from tensorflow.keras.models import Sequential\n",
    "from tensorflow.keras.layers import Dense, Conv2D, MaxPooling2D, Dropout, Flatten\n",
    "from tensorflow.keras import regularizers\n",
    "from tensorflow.keras.callbacks import EarlyStopping\n",
    "import tensorflow as tf\n",
    "import matplotlib.pyplot as plt\n",
    "\n",
    "# for waveform analysis\n",
    "TEST_DATASET_PATH = \"E:\\\\Data\\\\TestSet\\\\\"\n",
    "TEST_CATEGORIES = ['OverSaturated', 'UnderSaturated', 'JustSaturated']\n",
    "\n",
    "MODEL_PATH = 'E:\\\\Model\\\\'\n",
    "CNN_PREPROCESSING_BUFFER_PATH = 'E:\\\\Data\\\\PreprocessingBuffer\\\\'\n",
    "FAILED_TESTCASES_PATH = \"E:\\\\Data\\\\Failed Testset\\\\\"\n",
    "CROPPED_DATASET_PATH = 'E:\\\\Data\\\\LargeSet\\\\Cropped\\\\'\n",
    "\n",
    "OVERSATURATED_DATASET_PATH = 'E:\\\\Data\\\\LargeSet\\\\OverSaturated'\n",
    "UNDERSATURATED_DATASET_PATH = 'E:\\\\Data\\\\LargeSet\\\\UnderSaturated'\n",
    "JUSTSATURATED_DATASET_PATH = 'E:\\\\Data\\\\LargeSet\\\\JustSaturated'\n",
    "\n",
    "OVERSATURATED_CROPPED_DATASET_PATH = 'E:\\\\Data\\\\LargeSet\\\\Cropped\\\\OverSaturated'\n",
    "UNDERSATURATED_CROPPED_DATASET_PATH = 'E:\\\\Data\\\\LargeSet\\\\Cropped\\\\UnderSaturated'\n",
    "JUSTSATURATED_CROPPED_DATASET_PATH = 'E:\\\\Data\\\\LargeSet\\\\Cropped\\\\JustSaturated'\n"
   ]
  },
  {
   "cell_type": "code",
   "execution_count": 10,
   "metadata": {},
   "outputs": [
    {
     "name": "stdout",
     "output_type": "stream",
     "text": [
      "Num GPUs Available:  0\n"
     ]
    }
   ],
   "source": [
    "print(\"Num GPUs Available: \", len(tf.config.list_physical_devices('GPU')))"
   ]
  },
  {
   "cell_type": "markdown",
   "metadata": {},
   "source": [
    "### Check directory folders"
   ]
  },
  {
   "cell_type": "code",
   "execution_count": 11,
   "metadata": {},
   "outputs": [
    {
     "name": "stdout",
     "output_type": "stream",
     "text": [
      "Directory exists\n"
     ]
    }
   ],
   "source": [
    "# define directories and categories\n",
    "data_dir = CROPPED_DATASET_PATH\n",
    "categories = ['JustSaturated','UnderSaturated','OverSaturated']\n",
    "\n",
    "# check if the directory exists\n",
    "if os.path.exists(data_dir):\n",
    "    print('Directory exists')\n",
    "else:\n",
    "    print('Directory does not exist')\n",
    "\n"
   ]
  },
  {
   "cell_type": "markdown",
   "metadata": {},
   "source": [
    "### Split data into training and validation sets\n",
    "* ratio is 70% : 30%\n",
    "* reate train and val folder in specified folders"
   ]
  },
  {
   "cell_type": "code",
   "execution_count": 12,
   "metadata": {},
   "outputs": [],
   "source": [
    "# split the data into training and validation sets\n",
    "import random\n",
    "\n",
    "\n",
    "train_dir = os.path.join(data_dir, 'train')\n",
    "val_dir = os.path.join(data_dir, 'val')\n",
    "os.makedirs(train_dir, exist_ok=True)\n",
    "os.makedirs(val_dir, exist_ok=True)\n",
    "\n",
    "# define the ratio for splitting the data\n",
    "split_ratio = 0.70\n",
    "total_train = 0\n",
    "total_val = 0\n",
    "\n",
    "# loop through each category and split the data\n",
    "for cat in categories:\n",
    "    img_files = os.listdir(os.path.join(data_dir, cat))\n",
    "    num_train = int(len(img_files)*split_ratio)\n",
    "    random.shuffle(img_files)  # shuffle the list of image files\n",
    "    train_files = img_files[:num_train]\n",
    "    val_files = img_files[num_train:]\n",
    "\n",
    "    total_train += len(train_files)\n",
    "    total_val += len(val_files)\n",
    "\n",
    "    os.makedirs(os.path.join(train_dir, cat), exist_ok=True)\n",
    "    os.makedirs(os.path.join(val_dir, cat), exist_ok=True)\n",
    "    for fname in train_files:\n",
    "        shutil.copy(os.path.join(data_dir, cat, fname), os.path.join(train_dir, cat, fname))\n",
    "    for fname in val_files:\n",
    "        shutil.copy(os.path.join(data_dir, cat, fname), os.path.join(val_dir, cat, fname))\n"
   ]
  },
  {
   "cell_type": "markdown",
   "metadata": {},
   "source": [
    "### Image preprocessing\n",
    "* set height and width of the images that the model will receive : 670 * 240\n",
    "* set batch size (number of images to be used in one update cycle) : 32\n",
    "* augmentation: rescaling, rotation, shift, zoom, flip"
   ]
  },
  {
   "cell_type": "code",
   "execution_count": 13,
   "metadata": {},
   "outputs": [
    {
     "name": "stdout",
     "output_type": "stream",
     "text": [
      "Found 6089 images belonging to 3 classes.\n",
      "Found 2612 images belonging to 3 classes.\n"
     ]
    }
   ],
   "source": [
    "# Preprocess the images\n",
    "IMG_HEIGHT, IMG_WIDTH = 240, 670\n",
    "BATCH_SIZE = 32\n",
    "\n",
    "# Introduce data augmentation to the training set\n",
    "train_datagen = ImageDataGenerator(\n",
    "    rescale=1./255, \n",
    "    rotation_range=20,\n",
    "    width_shift_range=0.2, \n",
    "    height_shift_range=0.2,\n",
    "    zoom_range=0.2,\n",
    "    horizontal_flip=True)\n",
    "\n",
    "# We do not apply any augmentation on validation data\n",
    "val_datagen = ImageDataGenerator(rescale=1./255)\n",
    "\n",
    "train_generator = train_datagen.flow_from_directory(\n",
    "    train_dir,\n",
    "    target_size=(IMG_HEIGHT, IMG_WIDTH),\n",
    "    batch_size=BATCH_SIZE,\n",
    "    class_mode='categorical')\n",
    "\n",
    "val_generator = val_datagen.flow_from_directory(\n",
    "    val_dir,\n",
    "    target_size=(IMG_HEIGHT, IMG_WIDTH),\n",
    "    batch_size=BATCH_SIZE,\n",
    "    class_mode='categorical')"
   ]
  },
  {
   "cell_type": "markdown",
   "metadata": {},
   "source": [
    "### Model definition and training\n",
    "* Classic CNN model\n",
    "* Convolutional Layers and Pooling\n",
    "    ```\n",
    "    Conv2D(32, 3, padding='same', activation='relu', input_shape=(IMG_HEIGHT, IMG_WIDTH ,3)),\n",
    "    MaxPooling2D(),\n",
    "    Dropout(0.2),\n",
    "    ```\n",
    "    These are the first set of convolutional, pooling, and dropout layers. Convolutional layers are used to detect features or patterns in the images, like edges, corners, etc. The pooling layer reduces the dimensionality of the images, helping to prevent overfitting. The dropout layer randomly drops out a percentage of the neurons during training to also prevent overfitting.\n",
    "* Fully Connected Layers\n",
    "    ```\n",
    "    Flatten(),\n",
    "    Dense(64, activation='relu', kernel_regularizer=regularizers.l2(0.001)),\n",
    "    Dropout(0.5),  \n",
    "    Dense(3)\n",
    "    ```\n",
    "    After several convolutional and pooling layers, we flatten the data to a one-dimensional array and feed it into a fully connected (Dense) layer. This layer will learn global patterns from the features detected by previous layers. We apply dropout again for regularisation, and the final layer outputs the class probabilities.\n",
    "* Compile Model\n",
    "    ```\n",
    "    model.compile(optimizer=tf.keras.optimizers.Adam(learning_rate=0.0001),\n",
    "          loss=tf.keras.losses.CategoricalCrossentropy(from_logits=True),\n",
    "          metrics=['accuracy'])\n",
    "    ```\n",
    "    The model is compiled with the Adam optimizer, and the learning rate is set. The loss function is categorical cross-entropy, which is suitable for multiclass classification tasks. We're also setting accuracy as our evaluation metric.\n",
    "* Model Training:\n",
    "    ```\n",
    "    history = model.fit(\n",
    "    train_generator,\n",
    "    steps_per_epoch=total_train // BATCH_SIZE,\n",
    "    epochs=EPOCHS,\n",
    "    validation_data=val_generator,\n",
    "    validation_steps=total_val // BATCH_SIZE,\n",
    "    callbacks=[early_stop]\n",
    "    )\n",
    "    ```\n",
    "    The model is then trained using the fit method, using generators to provide batches of images. The training process is also validated on a separate set of data. The 'early stop' callback is used to stop training when the model isn't improving on the validation data, preventing wasted computation.\n"
   ]
  },
  {
   "cell_type": "code",
   "execution_count": 14,
   "metadata": {},
   "outputs": [
    {
     "name": "stdout",
     "output_type": "stream",
     "text": [
      "Epoch 1/20\n",
      "95/95 [==============================] - 312s 3s/step - loss: 1.1118 - accuracy: 0.5240 - val_loss: 0.9042 - val_accuracy: 0.6664\n",
      "Epoch 2/20\n",
      "95/95 [==============================] - 299s 3s/step - loss: 0.9603 - accuracy: 0.6042 - val_loss: 0.7435 - val_accuracy: 0.6469\n",
      "Epoch 3/20\n",
      "95/95 [==============================] - 292s 3s/step - loss: 0.8470 - accuracy: 0.6715 - val_loss: 0.5446 - val_accuracy: 0.8734\n",
      "Epoch 4/20\n",
      "95/95 [==============================] - 294s 3s/step - loss: 0.7637 - accuracy: 0.7143 - val_loss: 0.4705 - val_accuracy: 0.8586\n",
      "Epoch 5/20\n",
      "95/95 [==============================] - 294s 3s/step - loss: 0.7103 - accuracy: 0.7391 - val_loss: 0.3179 - val_accuracy: 0.9664\n",
      "Epoch 6/20\n",
      "95/95 [==============================] - 289s 3s/step - loss: 0.6581 - accuracy: 0.7604 - val_loss: 0.4013 - val_accuracy: 0.9117\n",
      "Epoch 7/20\n",
      "95/95 [==============================] - 307s 3s/step - loss: 0.6027 - accuracy: 0.7958 - val_loss: 0.3675 - val_accuracy: 0.9570\n"
     ]
    },
    {
     "data": {
      "image/png": "[encoded data removed]",
      "text/plain": [
       "<Figure size 1200x400 with 2 Axes>"
      ]
     },
     "metadata": {},
     "output_type": "display_data"
    }
   ],
   "source": [
    "\n",
    "# Define the model\n",
    "model = Sequential([\n",
    "    Conv2D(32, 3, padding='same', activation='relu', input_shape=(IMG_HEIGHT, IMG_WIDTH ,3)),\n",
    "    MaxPooling2D(),\n",
    "    Dropout(0.2),  \n",
    "    Conv2D(64, 3, padding='same', activation='relu'),\n",
    "    MaxPooling2D(),\n",
    "    Dropout(0.3),  \n",
    "    Conv2D(128, 3, padding='same', activation='relu'),\n",
    "    MaxPooling2D(),\n",
    "    Dropout(0.4),  \n",
    "    Flatten(),\n",
    "    Dense(64, activation='relu', kernel_regularizer=regularizers.l2(0.001)),  # added L2 regularization\n",
    "    Dropout(0.5),  \n",
    "    Dense(3)  # number of classes\n",
    "])\n",
    "\n",
    "# Compile the model\n",
    "model.compile(optimizer=tf.keras.optimizers.Adam(learning_rate=0.0001),\n",
    "              loss=tf.keras.losses.CategoricalCrossentropy(from_logits=True),\n",
    "              metrics=['accuracy'])\n",
    "\n",
    "# Update batch size and epochs\n",
    "BATCH_SIZE = 64 \n",
    "EPOCHS = 20\n",
    "\n",
    "early_stopping = EarlyStopping(\n",
    "    monitor='val_loss',  # Monitor validation loss\n",
    "    patience=2,  # Number of epochs with no improvement after which training will be stopped\n",
    "    restore_best_weights=True  # Restore model weights from the epoch with the best value\n",
    ")\n",
    "# Train the model\n",
    "history = model.fit(\n",
    "    train_generator,\n",
    "    steps_per_epoch=total_train // BATCH_SIZE,\n",
    "    epochs=EPOCHS,\n",
    "    validation_data=val_generator,\n",
    "    validation_steps=total_val // BATCH_SIZE,\n",
    "    callbacks=[early_stopping]\n",
    ")\n",
    "# Plotting the training progress\n",
    "plt.figure(figsize=(12, 4))\n",
    "plt.subplot(1, 2, 1)\n",
    "plt.plot(history.history['loss'], label='Training Loss')\n",
    "plt.plot(history.history['val_loss'], label='Validation Loss')\n",
    "plt.xlabel('Epoch')\n",
    "plt.ylabel('Loss')\n",
    "plt.legend()\n",
    "\n",
    "plt.subplot(1, 2, 2)\n",
    "plt.plot(history.history['accuracy'], label='Training Accuracy')\n",
    "plt.plot(history.history['val_accuracy'], label='Validation Accuracy')\n",
    "plt.xlabel('Epoch')\n",
    "plt.ylabel('Accuracy')\n",
    "plt.legend()\n",
    "\n",
    "plt.show()"
   ]
  },
  {
   "cell_type": "markdown",
   "metadata": {},
   "source": [
    "### Save the trained model"
   ]
  },
  {
   "cell_type": "code",
   "execution_count": 15,
   "metadata": {},
   "outputs": [],
   "source": [
    "# save the model and rename according to the number of epochs and timestamp\n",
    "import datetime\n",
    "now = datetime.datetime.now()\n",
    "model_name = 'model_' + str(EPOCHS) + '_' + now.strftime(\"%Y%m%d-%H%M%S\") + '.h5'\n",
    "model.save(MODEL_PATH + model_name)\n"
   ]
  },
  {
   "cell_type": "code",
   "execution_count": 16,
   "metadata": {},
   "outputs": [],
   "source": [
    "# Generate a txt file with detailed information about the model\n",
    "with open(MODEL_PATH + model_name + '.txt', 'w') as f:\n",
    "    f.write('Model name: ' + model_name + '\\n')\n",
    "    f.write('Number of epochs: ' + str(EPOCHS) + '\\n')\n",
    "    f.write('Batch size: ' + str(BATCH_SIZE) + '\\n')\n",
    "    f.write('Image height: ' + str(IMG_HEIGHT) + '\\n')\n",
    "    f.write('Image width: ' + str(IMG_WIDTH) + '\\n')\n",
    "    f.write('Total training images: ' + str(total_train) + '\\n')\n",
    "    f.write('Total validation images: ' + str(total_val) + '\\n')\n",
    "    f.write('Training accuracy: ' + str(history.history['accuracy'][-1]) + '\\n')\n",
    "    f.write('Validation accuracy: ' + str(history.history['val_accuracy'][-1]) + '\\n')\n",
    "    f.write('Training loss: ' + str(history.history['loss'][-1]) + '\\n')\n",
    "    f.write('Validation loss: ' + str(history.history['val_loss'][-1]) + '\\n')\n",
    "    f.write('Timestamp: ' + now.strftime(\"%Y%m%d-%H%M%S\") + '\\n')\n",
    "    f.write('Model summary: ' + '\\n')\n",
    "    model.summary(print_fn=lambda x: f.write(x + '\\n'))  # save model summary to txt file\n",
    "\n",
    "    "
   ]
  }
 ],
 "metadata": {
  "kernelspec": {
   "display_name": "Python 3",
   "language": "python",
   "name": "python3"
  },
  "language_info": {
   "codemirror_mode": {
    "name": "ipython",
    "version": 3
   },
   "file_extension": ".py",
   "mimetype": "text/x-python",
   "name": "python",
   "nbconvert_exporter": "python",
   "pygments_lexer": "ipython3",
   "version": "3.11.3"
  },
  "orig_nbformat": 4
 },
 "nbformat": 4,
 "nbformat_minor": 2
}
