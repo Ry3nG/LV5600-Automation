{
 "cells": [
  {
   "cell_type": "markdown",
   "metadata": {},
   "source": [
    "# Image Preprocessing\n",
    "* Perform cropping to ROi\n",
    "* Perform colour extraction\n",
    "* Saving to preprocessed directory"
   ]
  },
  {
   "cell_type": "code",
   "execution_count": 1,
   "metadata": {},
   "outputs": [],
   "source": [
    "# import libraries\n",
    "import os\n",
    "import cv2\n",
    "import numpy as np\n",
    "import matplotlib.pyplot as plt\n",
    "import sys\n",
    "\n",
    "\n",
    "# for waveform analysis\n",
    "TEST_DATASET_PATH = \"E:\\\\Data\\\\TestSet\\\\\"\n",
    "TEST_CATEGORIES = ['OverSaturated', 'UnderSaturated', 'JustSaturated']\n",
    "\n",
    "MODEL_PATH = 'E:\\\\Model\\\\'\n",
    "CNN_PREPROCESSING_BUFFER_PATH = 'E:\\\\Data\\\\PreprocessingBuffer\\\\'\n",
    "FAILED_TESTCASES_PATH = \"E:\\\\Data\\\\Failed Testset\\\\\"\n",
    "CROPPED_DATASET_PATH = 'E:\\\\Data\\\\LargeSet\\\\Cropped\\\\'\n",
    "\n",
    "OVERSATURATED_DATASET_PATH = 'E:\\\\Data\\\\LargeSet\\\\OverSaturated'\n",
    "UNDERSATURATED_DATASET_PATH = 'E:\\\\Data\\\\LargeSet\\\\UnderSaturated'\n",
    "JUSTSATURATED_DATASET_PATH = 'E:\\\\Data\\\\LargeSet\\\\JustSaturated'\n",
    "\n",
    "OVERSATURATED_CROPPED_DATASET_PATH = 'E:\\\\Data\\\\LargeSet\\\\Cropped\\\\OverSaturated'\n",
    "UNDERSATURATED_CROPPED_DATASET_PATH = 'E:\\\\Data\\\\LargeSet\\\\Cropped\\\\UnderSaturated'\n",
    "JUSTSATURATED_CROPPED_DATASET_PATH = 'E:\\\\Data\\\\LargeSet\\\\Cropped\\\\JustSaturated'\n",
    "\n"
   ]
  },
  {
   "cell_type": "code",
   "execution_count": 2,
   "metadata": {},
   "outputs": [],
   "source": [
    "\n",
    "\n",
    "# path to image folder\n",
    "overSaturated_image_dir = OVERSATURATED_DATASET_PATH\n",
    "justSaturated_image_dir = JUSTSATURATED_DATASET_PATH\n",
    "underSaturated_image_dir = UNDERSATURATED_DATASET_PATH\n",
    "\n",
    "# path to cropped image folder\n",
    "overSaturated_cropped_dir = OVERSATURATED_CROPPED_DATASET_PATH\n",
    "justSaturated_cropped_dir = JUSTSATURATED_CROPPED_DATASET_PATH\n",
    "underSaturated_cropped_dir = UNDERSATURATED_CROPPED_DATASET_PATH\n",
    "\n",
    "# create directories if they don't exist\n",
    "if not os.path.exists(overSaturated_cropped_dir):\n",
    "    os.makedirs(overSaturated_cropped_dir)\n",
    "\n",
    "if not os.path.exists(justSaturated_cropped_dir):\n",
    "    os.makedirs(justSaturated_cropped_dir)\n",
    "\n",
    "if not os.path.exists(underSaturated_cropped_dir):\n",
    "    os.makedirs(underSaturated_cropped_dir)\n"
   ]
  },
  {
   "cell_type": "code",
   "execution_count": 3,
   "metadata": {},
   "outputs": [],
   "source": [
    "# Region of Interest (ROI) coordinates\n",
    "x_start, x_end, y_start, y_end = 600, 1270, 60, 300"
   ]
  },
  {
   "cell_type": "code",
   "execution_count": 4,
   "metadata": {},
   "outputs": [
    {
     "data": {
      "image/png": "[encoded data removed]",
      "text/plain": [
       "<Figure size 640x480 with 1 Axes>"
      ]
     },
     "metadata": {},
     "output_type": "display_data"
    }
   ],
   "source": [
    "# open a image for previewing\n",
    "img = cv2.imread(os.path.join(overSaturated_image_dir, 'overSaturated0.bmp.bmp'))\n",
    "\n",
    "# Convert the image from BGR to RGB\n",
    "img = cv2.cvtColor(img, cv2.COLOR_BGR2RGB)\n",
    "\n",
    "# crop the image\n",
    "img_cropped = img[y_start:y_end, x_start:x_end]\n",
    "\n",
    "# show the image\n",
    "plt.imshow(img_cropped)\n",
    "plt.show()"
   ]
  },
  {
   "cell_type": "code",
   "execution_count": 5,
   "metadata": {},
   "outputs": [],
   "source": [
    "# read all the images in the JustSaturated folder\n",
    "for file in os.listdir(justSaturated_image_dir):\n",
    "    # read the image\n",
    "    img = cv2.imread(os.path.join(justSaturated_image_dir, file))\n",
    "\n",
    "    # crop the image to ROI\n",
    "    img_cropped = img[y_start:y_end, x_start:x_end]\n",
    "\n",
    "    # save the image with original file name\n",
    "    cv2.imwrite(os.path.join(justSaturated_cropped_dir, file), img_cropped)\n"
   ]
  },
  {
   "cell_type": "code",
   "execution_count": 6,
   "metadata": {},
   "outputs": [],
   "source": [
    "# read all the images in the OverSaturated folder\n",
    "for i, file in enumerate(os.listdir(overSaturated_image_dir)):\n",
    "    # read the image\n",
    "    img = cv2.imread(os.path.join(overSaturated_image_dir, file))\n",
    "\n",
    "    # crop the image to ROI\n",
    "    img_cropped = img[y_start:y_end, x_start:x_end]\n",
    "\n",
    "    # save the image\n",
    "    cv2.imwrite(os.path.join(overSaturated_cropped_dir, file), img_cropped)"
   ]
  },
  {
   "cell_type": "code",
   "execution_count": 7,
   "metadata": {},
   "outputs": [],
   "source": [
    "# read all the images in the UnderSaturated folder\n",
    "for i, file in enumerate(os.listdir(underSaturated_image_dir)):\n",
    "    # read the image\n",
    "    img = cv2.imread(os.path.join(underSaturated_image_dir, file))\n",
    "\n",
    "    # crop the image to ROI\n",
    "    img_cropped = img[y_start:y_end, x_start:x_end]\n",
    "\n",
    "    # save the image\n",
    "    cv2.imwrite(os.path.join(underSaturated_cropped_dir, file), img_cropped)"
   ]
  }
 ],
 "metadata": {
  "kernelspec": {
   "display_name": "Python 3",
   "language": "python",
   "name": "python3"
  },
  "language_info": {
   "codemirror_mode": {
    "name": "ipython",
    "version": 3
   },
   "file_extension": ".py",
   "mimetype": "text/x-python",
   "name": "python",
   "nbconvert_exporter": "python",
   "pygments_lexer": "ipython3",
   "version": "3.11.3"
  },
  "orig_nbformat": 4
 },
 "nbformat": 4,
 "nbformat_minor": 2
}
