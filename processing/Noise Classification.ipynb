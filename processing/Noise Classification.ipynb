{
 "cells": [
  {
   "cell_type": "markdown",
   "metadata": {},
   "source": [
    "# Noise Detection"
   ]
  },
  {
   "cell_type": "code",
   "execution_count": 1,
   "metadata": {},
   "outputs": [],
   "source": [
    "import cv2\n",
    "import numpy as np\n",
    "import matplotlib.pyplot as plt\n",
    "import os\n",
    "import sys\n",
    "sys.path.append('../')\n",
    "from Constants import Constants"
   ]
  },
  {
   "cell_type": "code",
   "execution_count": 2,
   "metadata": {},
   "outputs": [],
   "source": [
    "# define the directories\n",
    "dataset_dir = os.path.join(Constants.PATH_NOISE_DATASET_RAW)\n",
    "just_saturated_dataset_dir = os.path.join(dataset_dir,\"just_saturated\")\n",
    "over_saturated_dataset_dir = os.path.join(dataset_dir,\"over_saturated\")\n",
    "under_saturated_dataset_dir = os.path.join(dataset_dir,\"under_saturated\")\n",
    "\n",
    "# pick a sample image\n",
    "# sample_image = os.path.join(just_saturated_dataset_dir,\"just_saturated_0.bmp\")\n",
    "# sample_image = os.path.join(over_saturated_dataset_dir,\"over_saturated_light_level_1_0.bmp\")\n",
    "# sample_image = os.path.join(over_saturated_dataset_dir,\"test.bmp\")\n",
    "sample_image = os.path.join(under_saturated_dataset_dir,\"under_saturated_light_level_1_3.bmp\")\n",
    "\n",
    "sample_image = Constants.LOCAL_FILE_PATH_BMP"
   ]
  },
  {
   "cell_type": "code",
   "execution_count": 3,
   "metadata": {},
   "outputs": [
    {
     "data": {
      "image/png": "[encoded data removed]",
      "text/plain": [
       "<Figure size 640x480 with 1 Axes>"
      ]
     },
     "metadata": {},
     "output_type": "display_data"
    },
    {
     "ename": "ValueError",
     "evalue": "min() arg is an empty sequence",
     "output_type": "error",
     "traceback": [
      "\u001b[1;31m---------------------------------------------------------------------------\u001b[0m",
      "\u001b[1;31mValueError\u001b[0m                                Traceback (most recent call last)",
      "Cell \u001b[1;32mIn[3], line 24\u001b[0m\n\u001b[0;32m     22\u001b[0m     \u001b[39mreturn\u001b[39;00m red_pixels_relative\n\u001b[0;32m     23\u001b[0m \u001b[39m# Get peak of the red curve (lowest y value)\u001b[39;00m\n\u001b[1;32m---> 24\u001b[0m red_peak \u001b[39m=\u001b[39m \u001b[39mmin\u001b[39;49m(red_pixels, key\u001b[39m=\u001b[39;49m\u001b[39mlambda\u001b[39;49;00m coord: coord[\u001b[39m1\u001b[39;49m])\n\u001b[0;32m     26\u001b[0m \u001b[39m# Get corresponding point on the green line (same x value)\u001b[39;00m\n\u001b[0;32m     27\u001b[0m green_corresponding \u001b[39m=\u001b[39m [coord \u001b[39mfor\u001b[39;00m coord \u001b[39min\u001b[39;00m green_pixels \u001b[39mif\u001b[39;00m coord[\u001b[39m0\u001b[39m] \u001b[39m==\u001b[39m red_peak[\u001b[39m0\u001b[39m]]\n",
      "\u001b[1;31mValueError\u001b[0m: min() arg is an empty sequence"
     ]
    }
   ],
   "source": [
    "# Read image\n",
    "img = cv2.imread(sample_image)\n",
    "img = cv2.cvtColor(img, cv2.COLOR_BGR2RGB)\n",
    "\n",
    "# select region of interest and display it\n",
    "roi = img[150:780,400:1520]\n",
    "plt.imshow(roi)\n",
    "plt.show()\n",
    "\n",
    "# get red and green pixels\n",
    "height,width = roi.shape[:2]\n",
    "red_pixels = [(x, y) for x in range(width) for y in range(height) if roi[y, x, 0] > roi[y, x, 1] and roi[y, x, 0] > roi[y, x, 2]]\n",
    "green_pixels = [(x, y) for x in range(width) for y in range(height) if roi[y, x, 1] > roi[y, x, 0] and roi[y, x, 1] > roi[y, x, 2]]\n",
    "\n",
    "# function to get red pixels within or outside the 3-pixel range of the green pixels\n",
    "def get_red_pixels_relative_to_green(red_pixels, green_pixels, within_range):\n",
    "    red_pixels_relative = []\n",
    "    for green_x, green_y in green_pixels:\n",
    "        for red_x, red_y in red_pixels:\n",
    "            if within_range == ((green_x - 3 <= red_x <= green_x + 3) and (green_y - 3 <= red_y <= green_y + 3)):\n",
    "                red_pixels_relative.append((red_x, red_y))\n",
    "    return red_pixels_relative\n",
    "# Get peak of the red curve (lowest y value)\n",
    "red_peak = min(red_pixels, key=lambda coord: coord[1])\n",
    "\n",
    "# Get corresponding point on the green line (same x value)\n",
    "green_corresponding = [coord for coord in green_pixels if coord[0] == red_peak[0]]\n",
    "\n",
    "if green_corresponding:\n",
    "    # if there's more than one point with the same x value, choose the one closest to the red peak.\n",
    "    green_corresponding = min(green_corresponding, key=lambda coord: abs(coord[1] - red_peak[1]))\n",
    "else:\n",
    "    green_corresponding = None\n",
    "\n",
    "print(\"Red peak: \", red_peak)\n",
    "print(\"Green corresponding: \", green_corresponding)\n",
    "if green_corresponding is not None:\n",
    "    # get the 50 pixels around the center of green pixels\n",
    "    green_pixels_around_center = [(x, y) for x, y in green_pixels if abs(x - green_corresponding[0]) <= 25 and abs(y - green_corresponding[1]) <= 25]\n",
    "\n",
    "    # get red pixels near and far from green\n",
    "    red_pixels_near_green = get_red_pixels_relative_to_green(red_pixels, green_pixels_around_center, within_range=True)\n",
    "    red_pixels_far_green = get_red_pixels_relative_to_green(red_pixels, green_pixels_around_center, within_range=False)\n",
    "\n",
    "    # plot in the same graph\n",
    "    plt.scatter(*zip(*red_pixels), c='r', s=1)\n",
    "    plt.scatter(*zip(*green_pixels_around_center), c='g', s=1)\n",
    "    if red_pixels_near_green:\n",
    "        plt.scatter(*zip(*red_pixels_near_green), c='b', s=1)\n",
    "    plt.gca().invert_yaxis()\n",
    "    plt.gca().set_aspect('equal', adjustable='box')\n",
    "    plt.show()\n",
    "\n",
    "    # check if there are red pixels both above and below the green pixels within or outside a 3-pixel range\n",
    "    check_red_pixels_relative_to_green = lambda red_pixels_relative: (any(red_y < green_corresponding[1] for red_x, red_y in red_pixels_relative),\n",
    "                                                                    any(red_y > green_corresponding[1] for red_x, red_y in red_pixels_relative))\n",
    "\n",
    "    red_pixels_above_near, red_pixels_below_near = check_red_pixels_relative_to_green(red_pixels_near_green)\n",
    "    red_pixels_above_far, red_pixels_below_far = check_red_pixels_relative_to_green(red_pixels_far_green)\n",
    "\n",
    "    num_red_pixels_above = len([coord for coord in red_pixels_near_green if coord[1] < green_corresponding[1]])\n",
    "    num_red_pixels_below = len([coord for coord in red_pixels_near_green if coord[1] > green_corresponding[1]])\n",
    "\n",
    "\n",
    "    # calculate the ratio\n",
    "    # add a small number to the denominator to avoid division by zero\n",
    "    ratio = num_red_pixels_above / (num_red_pixels_below + 1e-10)\n",
    "\n",
    "    # define the acceptable range for the ratio\n",
    "    lower_bound = 0.7\n",
    "    upper_bound = 1.3\n",
    "\n",
    "\n",
    "    # classify the image\n",
    "    if red_pixels_above_near and red_pixels_below_near:\n",
    "            # classify the image\n",
    "        if lower_bound <= ratio <= upper_bound:\n",
    "            print(\"The image is just correct\")\n",
    "        elif ratio > upper_bound:\n",
    "            print(\"The image is too high\")\n",
    "        elif ratio < lower_bound:\n",
    "            print(\"The image is too low\")\n",
    "        else:\n",
    "            print(\"The image does not meet any of the criteria\")\n",
    "    elif (red_pixels_above_near and not red_pixels_below_near) or (not red_pixels_near_green and red_pixels_above_far):\n",
    "        print(\"The image is too high\")\n",
    "    elif (not red_pixels_above_near and red_pixels_below_near) or (not red_pixels_near_green and red_pixels_below_far):\n",
    "        print(\"The image is too low\")\n",
    "    else:\n",
    "        print(\"The image does not meet any of the criteria\")"
   ]
  }
 ],
 "metadata": {
  "kernelspec": {
   "display_name": "Python 3",
   "language": "python",
   "name": "python3"
  },
  "language_info": {
   "codemirror_mode": {
    "name": "ipython",
    "version": 3
   },
   "file_extension": ".py",
   "mimetype": "text/x-python",
   "name": "python",
   "nbconvert_exporter": "python",
   "pygments_lexer": "ipython3",
   "version": "3.11.3"
  },
  "orig_nbformat": 4
 },
 "nbformat": 4,
 "nbformat_minor": 2
}
